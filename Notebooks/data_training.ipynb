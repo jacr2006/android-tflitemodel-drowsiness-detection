{
  "nbformat": 4,
  "nbformat_minor": 0,
  "metadata": {
    "colab": {
      "name": "data_training.ipynb",
      "provenance": [],
      "collapsed_sections": [],
      "include_colab_link": true
    },
    "kernelspec": {
      "name": "python3",
      "display_name": "Python 3"
    },
    "accelerator": "GPU"
  },
  "cells": [
    {
      "cell_type": "markdown",
      "metadata": {
        "id": "view-in-github",
        "colab_type": "text"
      },
      "source": [
        "<a href=\"https://colab.research.google.com/github/jacr2006/android-tflitemodel-drowsiness-detection/blob/master/data_training.ipynb\" target=\"_parent\"><img src=\"https://colab.research.google.com/assets/colab-badge.svg\" alt=\"Open In Colab\"/></a>"
      ]
    },
    {
      "cell_type": "code",
      "metadata": {
        "id": "ltrga60yFZgF",
        "colab_type": "code",
        "outputId": "5289ad7a-27a1-4ffb-f75a-4a66a4051b2a",
        "colab": {
          "base_uri": "https://localhost:8080/",
          "height": 122
        }
      },
      "source": [
        "from google.colab import drive\n",
        "drive.mount('/content/drive')"
      ],
      "execution_count": 1,
      "outputs": [
        {
          "output_type": "stream",
          "text": [
            "Go to this URL in a browser: https://accounts.google.com/o/oauth2/auth?client_id=947318989803-6bn6qk8qdgf4n4g3pfee6491hc0brc4i.apps.googleusercontent.com&redirect_uri=urn%3aietf%3awg%3aoauth%3a2.0%3aoob&response_type=code&scope=email%20https%3a%2f%2fwww.googleapis.com%2fauth%2fdocs.test%20https%3a%2f%2fwww.googleapis.com%2fauth%2fdrive%20https%3a%2f%2fwww.googleapis.com%2fauth%2fdrive.photos.readonly%20https%3a%2f%2fwww.googleapis.com%2fauth%2fpeopleapi.readonly\n",
            "\n",
            "Enter your authorization code:\n",
            "··········\n",
            "Mounted at /content/drive\n"
          ],
          "name": "stdout"
        }
      ]
    },
    {
      "cell_type": "code",
      "metadata": {
        "id": "eIvUhIfDKoZJ",
        "colab_type": "code",
        "outputId": "8b6c1c71-b46c-4d2d-cc97-5413db8de84d",
        "colab": {
          "base_uri": "https://localhost:8080/",
          "height": 34
        }
      },
      "source": [
        "!pip install tensorboardcolab"
      ],
      "execution_count": 2,
      "outputs": [
        {
          "output_type": "stream",
          "text": [
            "Requirement already satisfied: tensorboardcolab in /usr/local/lib/python3.6/dist-packages (0.0.22)\n"
          ],
          "name": "stdout"
        }
      ]
    },
    {
      "cell_type": "code",
      "metadata": {
        "id": "zQ12Up6BWiPS",
        "colab_type": "code",
        "outputId": "d81a83c7-99d2-4848-9719-8e330793ef28",
        "colab": {
          "base_uri": "https://localhost:8080/",
          "height": 80
        }
      },
      "source": [
        "import numpy as np\n",
        "from tensorboardcolab import TensorBoardColab"
      ],
      "execution_count": 3,
      "outputs": [
        {
          "output_type": "display_data",
          "data": {
            "text/html": [
              "<p style=\"color: red;\">\n",
              "The default version of TensorFlow in Colab will soon switch to TensorFlow 2.x.<br>\n",
              "We recommend you <a href=\"https://www.tensorflow.org/guide/migrate\" target=\"_blank\">upgrade</a> now \n",
              "or ensure your notebook will continue to use TensorFlow 1.x via the <code>%tensorflow_version 1.x</code> magic:\n",
              "<a href=\"https://colab.research.google.com/notebooks/tensorflow_version.ipynb\" target=\"_blank\">more info</a>.</p>\n"
            ],
            "text/plain": [
              "<IPython.core.display.HTML object>"
            ]
          },
          "metadata": {
            "tags": []
          }
        },
        {
          "output_type": "stream",
          "text": [
            "Using TensorFlow backend.\n"
          ],
          "name": "stderr"
        }
      ]
    },
    {
      "cell_type": "markdown",
      "metadata": {
        "id": "VA-pkG_8w9t5",
        "colab_type": "text"
      },
      "source": [
        "Normalizacion de los datos"
      ]
    },
    {
      "cell_type": "code",
      "metadata": {
        "id": "i38dQ2YlEHyw",
        "colab_type": "code",
        "outputId": "18bfdcc1-8176-418b-c6db-ea9b7b082c12",
        "colab": {
          "base_uri": "https://localhost:8080/",
          "height": 119
        }
      },
      "source": [
        "N_LANDMARK = 68# numero de marcas faciales\n",
        "INPUT_SHAPE = (96, 96, 1)# ancho, alto y canales de la imagen\n",
        "OUTPUT_SIZE = N_LANDMARK*2# tamaño de la capa de salida, dos coordenadas por cada marca facial\n",
        "\n",
        "# lectura de los dataser previamente procesados\n",
        "PATH_DRIVE = '/content/drive/My Drive/Proyectos Nuevos/ML/multiclass_landmark_keras_cnn/'\n",
        "X = np.load(PATH_DRIVE + \"img_dataset.npy\")\n",
        "y = np.load(PATH_DRIVE + \"pts_dataset.npy\")\n",
        "print(y.shape)\n",
        "y = y.reshape(-1, OUTPUT_SIZE)\n",
        "\n",
        "# escalada de la data de entrada\n",
        "X = X/255.0#normalizacion de los datos de las imagenes entre (0,1)\n",
        "\n",
        "_mean = np.mean(y)\n",
        "_max = np.amax(y)\n",
        "_min = np.amin(y)\n",
        "print(str(_mean))\n",
        "print(str(_max))\n",
        "print(str(_min))\n",
        "y = (y-_mean)/(_max-_min)# normalizacion de los datos las marcas faciales entre (-1,1)\n",
        "\n",
        "print(X.shape)\n",
        "print(y.shape)\n"
      ],
      "execution_count": 6,
      "outputs": [
        {
          "output_type": "stream",
          "text": [
            "(6666, 68, 2)\n",
            "48.55575925239583\n",
            "122.0\n",
            "-24.0\n",
            "(6666, 96, 96, 1)\n",
            "(6666, 136)\n"
          ],
          "name": "stdout"
        }
      ]
    },
    {
      "cell_type": "markdown",
      "metadata": {
        "id": "sLzqWKZcjST6",
        "colab_type": "text"
      },
      "source": [
        "Visualizacion de la data normalizada"
      ]
    },
    {
      "cell_type": "code",
      "metadata": {
        "id": "XlIx-ob7AdFe",
        "colab_type": "code",
        "outputId": "dd41c9cf-8dc2-4587-8b51-5197e7ee7b0d",
        "colab": {
          "base_uri": "https://localhost:8080/",
          "height": 136
        }
      },
      "source": [
        "print(X[100,:,:,0])"
      ],
      "execution_count": 7,
      "outputs": [
        {
          "output_type": "stream",
          "text": [
            "[[0.18039216 0.15294118 0.14117647 ... 0.14509804 0.10196078 0.12941176]\n",
            " [0.17254902 0.16470588 0.14509804 ... 0.15294118 0.09019608 0.25882353]\n",
            " [0.18431373 0.17254902 0.16862745 ... 0.23137255 0.15686275 0.11764706]\n",
            " ...\n",
            " [0.16470588 0.16470588 0.17254902 ... 0.12941176 0.09411765 0.16862745]\n",
            " [0.16078431 0.16470588 0.18823529 ... 0.13333333 0.10196078 0.17647059]\n",
            " [0.14509804 0.17647059 0.16470588 ... 0.13333333 0.11764706 0.12941176]]\n"
          ],
          "name": "stdout"
        }
      ]
    },
    {
      "cell_type": "code",
      "metadata": {
        "id": "pqR4lZTIuTCd",
        "colab_type": "code",
        "outputId": "95a91a7d-fc3b-452d-df7c-f86591dad0a3",
        "colab": {
          "base_uri": "https://localhost:8080/",
          "height": 408
        }
      },
      "source": [
        "print(y[100,:])"
      ],
      "execution_count": 8,
      "outputs": [
        {
          "output_type": "stream",
          "text": [
            "[-0.30517643 -0.12024493 -0.30517643 -0.03120383 -0.29832712  0.05783727\n",
            " -0.28462849  0.14002905 -0.25038191  0.21537151 -0.19558739  0.27701535\n",
            " -0.12709424  0.3455085  -0.05175178  0.38660439  0.03044001  0.40030302\n",
            "  0.10578247  0.37975507  0.15372768  0.32496055  0.2085222   0.26331672\n",
            "  0.2564674   0.19482357  0.29071398  0.1194811   0.30441261  0.05783727\n",
            "  0.31811124 -0.02435452  0.32496055 -0.09284767 -0.22983397 -0.17503945\n",
            " -0.18188876 -0.19558739 -0.12709424 -0.20928602 -0.06545041 -0.20928602\n",
            " -0.01065589 -0.18188876  0.10578247 -0.17503945  0.15372768 -0.20928602\n",
            "  0.21537151 -0.20243671  0.26331672 -0.18873808  0.29756329 -0.14764219\n",
            "  0.05098795 -0.1065463   0.05098795 -0.03805315  0.05098795  0.02359069\n",
            "  0.05098795  0.09208384 -0.02435452  0.11263179  0.00989206  0.1194811\n",
            "  0.04413864  0.13317973  0.07838521  0.1194811   0.10578247  0.10578247\n",
            " -0.17503945 -0.1065463  -0.13394356 -0.12709424 -0.09284767 -0.12709424\n",
            " -0.05175178 -0.09284767 -0.09284767 -0.08599835 -0.13394356 -0.09284767\n",
            "  0.10578247 -0.08599835  0.15372768 -0.12024493  0.20167288 -0.12709424\n",
            "  0.23591946 -0.09969698  0.20167288 -0.08599835  0.16057699 -0.08599835\n",
            " -0.14079287  0.14687836 -0.07229972  0.14687836 -0.01065589  0.14687836\n",
            "  0.03044001  0.15372768  0.0715359   0.14687836  0.12633042  0.14687836\n",
            "  0.18112494  0.14687836  0.12633042  0.23591946  0.0715359   0.27016603\n",
            "  0.02359069  0.27701535 -0.0175052   0.27016603 -0.08599835  0.23591946\n",
            " -0.12709424  0.16057699 -0.01065589  0.17427562  0.03044001  0.18112494\n",
            "  0.0715359   0.17427562  0.16057699  0.16057699  0.0715359   0.22907014\n",
            "  0.02359069  0.23591946 -0.0175052   0.23591946]\n"
          ],
          "name": "stdout"
        }
      ]
    },
    {
      "cell_type": "markdown",
      "metadata": {
        "id": "X1zBc0LDjXrX",
        "colab_type": "text"
      },
      "source": [
        "Estructura de la red neuronal (CNN)"
      ]
    },
    {
      "cell_type": "code",
      "metadata": {
        "id": "qLWcCX0lsvGR",
        "colab_type": "code",
        "colab": {
          "base_uri": "https://localhost:8080/",
          "height": 496
        },
        "outputId": "884a67a0-2faa-4bc8-a290-dbdb6824ce47"
      },
      "source": [
        "import keras\n",
        "from keras.layers.normalization import BatchNormalization\n",
        "from keras.layers.convolutional import Conv2D, AveragePooling2D, MaxPooling2D, ZeroPadding2D\n",
        "from keras.layers.core import Activation, Dense\n",
        "from keras.layers import Flatten, Input, Convolution2D, add, Dropout, MaxPool2D\n",
        "from keras.models import Sequential, Model\n",
        "from keras.regularizers import l2\n",
        "from keras import backend as K\n",
        "from keras.layers.advanced_activations import LeakyReLU\n",
        "\n",
        "model = Sequential()\n",
        "\n",
        "model.add(Convolution2D(32, (3,3), padding='same', use_bias=False, input_shape=INPUT_SHAPE))\n",
        "model.add(LeakyReLU(alpha = 0.1))\n",
        "model.add(BatchNormalization())\n",
        "\n",
        "model.add(Convolution2D(32, (3,3), padding='same', use_bias=False))\n",
        "model.add(LeakyReLU(alpha = 0.1))\n",
        "model.add(BatchNormalization())\n",
        "model.add(MaxPool2D(pool_size=(2, 2)))\n",
        "\n",
        "model.add(Convolution2D(64, (3,3), padding='same', use_bias=False))\n",
        "model.add(LeakyReLU(alpha = 0.1))\n",
        "model.add(BatchNormalization())\n",
        "\n",
        "model.add(Convolution2D(64, (3,3), padding='same', use_bias=False))\n",
        "model.add(LeakyReLU(alpha = 0.1))\n",
        "model.add(BatchNormalization())\n",
        "model.add(MaxPool2D(pool_size=(2, 2)))\n",
        "\n",
        "model.add(Convolution2D(96, (3,3), padding='same', use_bias=False))\n",
        "model.add(LeakyReLU(alpha = 0.1))\n",
        "model.add(BatchNormalization())\n",
        "\n",
        "model.add(Convolution2D(96, (3,3), padding='same', use_bias=False))\n",
        "model.add(LeakyReLU(alpha = 0.1))\n",
        "model.add(BatchNormalization())\n",
        "model.add(MaxPool2D(pool_size=(2, 2)))\n",
        "\n",
        "model.add(Convolution2D(128, (3,3),padding='same', use_bias=False))\n",
        "# model.add(BatchNormalization())\n",
        "model.add(LeakyReLU(alpha = 0.1))\n",
        "model.add(BatchNormalization())\n",
        "\n",
        "model.add(Convolution2D(128, (3,3),padding='same', use_bias=False))\n",
        "model.add(LeakyReLU(alpha = 0.1))\n",
        "model.add(BatchNormalization())\n",
        "model.add(MaxPool2D(pool_size=(2, 2)))\n",
        "\n",
        "model.add(Convolution2D(256, (3,3),padding='same',use_bias=False))\n",
        "model.add(LeakyReLU(alpha = 0.1))\n",
        "model.add(BatchNormalization())\n",
        "\n",
        "model.add(Convolution2D(256, (3,3),padding='same',use_bias=False))\n",
        "model.add(LeakyReLU(alpha = 0.1))\n",
        "model.add(BatchNormalization())\n",
        "model.add(MaxPool2D(pool_size=(2, 2)))\n",
        "\n",
        "model.add(Convolution2D(512, (3,3), padding='same', use_bias=False))\n",
        "model.add(LeakyReLU(alpha = 0.1))\n",
        "model.add(BatchNormalization())\n",
        "\n",
        "model.add(Convolution2D(512, (3,3), padding='same', use_bias=False))\n",
        "model.add(LeakyReLU(alpha = 0.1))\n",
        "model.add(BatchNormalization())\n",
        "\n",
        "\n",
        "model.add(Flatten())\n",
        "model.add(Dense(512,activation='relu'))\n",
        "model.add(Dropout(0.1))\n",
        "model.add(Dense(OUTPUT_SIZE))"
      ],
      "execution_count": 9,
      "outputs": [
        {
          "output_type": "stream",
          "text": [
            "WARNING:tensorflow:From /usr/local/lib/python3.6/dist-packages/keras/backend/tensorflow_backend.py:66: The name tf.get_default_graph is deprecated. Please use tf.compat.v1.get_default_graph instead.\n",
            "\n",
            "WARNING:tensorflow:From /usr/local/lib/python3.6/dist-packages/keras/backend/tensorflow_backend.py:541: The name tf.placeholder is deprecated. Please use tf.compat.v1.placeholder instead.\n",
            "\n",
            "WARNING:tensorflow:From /usr/local/lib/python3.6/dist-packages/keras/backend/tensorflow_backend.py:4432: The name tf.random_uniform is deprecated. Please use tf.random.uniform instead.\n",
            "\n",
            "WARNING:tensorflow:From /usr/local/lib/python3.6/dist-packages/keras/backend/tensorflow_backend.py:190: The name tf.get_default_session is deprecated. Please use tf.compat.v1.get_default_session instead.\n",
            "\n",
            "WARNING:tensorflow:From /usr/local/lib/python3.6/dist-packages/keras/backend/tensorflow_backend.py:197: The name tf.ConfigProto is deprecated. Please use tf.compat.v1.ConfigProto instead.\n",
            "\n",
            "WARNING:tensorflow:From /usr/local/lib/python3.6/dist-packages/keras/backend/tensorflow_backend.py:203: The name tf.Session is deprecated. Please use tf.compat.v1.Session instead.\n",
            "\n",
            "WARNING:tensorflow:From /usr/local/lib/python3.6/dist-packages/keras/backend/tensorflow_backend.py:207: The name tf.global_variables is deprecated. Please use tf.compat.v1.global_variables instead.\n",
            "\n",
            "WARNING:tensorflow:From /usr/local/lib/python3.6/dist-packages/keras/backend/tensorflow_backend.py:216: The name tf.is_variable_initialized is deprecated. Please use tf.compat.v1.is_variable_initialized instead.\n",
            "\n",
            "WARNING:tensorflow:From /usr/local/lib/python3.6/dist-packages/keras/backend/tensorflow_backend.py:223: The name tf.variables_initializer is deprecated. Please use tf.compat.v1.variables_initializer instead.\n",
            "\n",
            "WARNING:tensorflow:From /usr/local/lib/python3.6/dist-packages/keras/backend/tensorflow_backend.py:2041: The name tf.nn.fused_batch_norm is deprecated. Please use tf.compat.v1.nn.fused_batch_norm instead.\n",
            "\n",
            "WARNING:tensorflow:From /usr/local/lib/python3.6/dist-packages/keras/backend/tensorflow_backend.py:148: The name tf.placeholder_with_default is deprecated. Please use tf.compat.v1.placeholder_with_default instead.\n",
            "\n",
            "WARNING:tensorflow:From /usr/local/lib/python3.6/dist-packages/keras/backend/tensorflow_backend.py:4267: The name tf.nn.max_pool is deprecated. Please use tf.nn.max_pool2d instead.\n",
            "\n",
            "WARNING:tensorflow:From /usr/local/lib/python3.6/dist-packages/keras/backend/tensorflow_backend.py:3733: calling dropout (from tensorflow.python.ops.nn_ops) with keep_prob is deprecated and will be removed in a future version.\n",
            "Instructions for updating:\n",
            "Please use `rate` instead of `keep_prob`. Rate should be set to `rate = 1 - keep_prob`.\n"
          ],
          "name": "stdout"
        }
      ]
    },
    {
      "cell_type": "code",
      "metadata": {
        "id": "htqYhJWStOjf",
        "colab_type": "code",
        "outputId": "51cdbcd3-3707-4b3b-dda3-ae688e050a37",
        "colab": {
          "base_uri": "https://localhost:8080/",
          "height": 122
        }
      },
      "source": [
        "from keras.callbacks import LearningRateScheduler\n",
        "from keras.callbacks import EarlyStopping\n",
        "from keras.optimizers import SGD\n",
        "from keras.optimizers import Adam\n",
        "import numpy as np\n",
        "from tensorboardcolab import TensorBoardColab, TensorBoardColabCallback\n",
        "\n",
        "NUM_EPOCHS = 100# numero de epocas de entrenamiento\n",
        "INIT_LR = 0.001# coeficiente de aprendizaje inicial\n",
        "BS = 256# se inicio el entrenamiento con un tamaño de 32 y se aumento hasta lograr la convergencia\n",
        "\n",
        "# entrenar una CNN para detectar marcas faciales es distinto de predecir clases (binaria o multiclase)\n",
        "# en vez de obtener una distribucion de clases usando una funcion de perdida como \"entropy loss\" que mide la capacidad de clasificacion,\n",
        "# se debe usar una fucnion de perdida para regresion, la cual compara directamente el valor inferido con el real \n",
        "\n",
        "#opt = SGD(lr=INIT_LR, momentum=0.9)# Gradiente descendete estoscastico como metodo de optimizacion\n",
        "opt = Adam(lr=INIT_LR, decay=1e-3 / 200)\n",
        "\n",
        "# compilacion del modelo\n",
        "model.compile(loss='mean_squared_error', optimizer=opt, metrics=[\"mae\"])\n",
        "\n",
        "tbc=TensorBoardColab()\n",
        "callbacks_list = [TensorBoardColabCallback(tbc)]\n"
      ],
      "execution_count": 10,
      "outputs": [
        {
          "output_type": "stream",
          "text": [
            "WARNING:tensorflow:From /usr/local/lib/python3.6/dist-packages/keras/optimizers.py:793: The name tf.train.Optimizer is deprecated. Please use tf.compat.v1.train.Optimizer instead.\n",
            "\n",
            "Wait for 8 seconds...\n",
            "TensorBoard link:\n",
            "https://fa4c4e2b.ngrok.io\n"
          ],
          "name": "stdout"
        }
      ]
    },
    {
      "cell_type": "code",
      "metadata": {
        "id": "S3SWuBV0yBeX",
        "colab_type": "code",
        "outputId": "411d4fc8-ec44-4a2b-849e-5021d55ad723",
        "colab": {
          "base_uri": "https://localhost:8080/",
          "height": 1000
        }
      },
      "source": [
        "H = model.fit(\n",
        "    X, y, batch_size=BS, \n",
        "    epochs=NUM_EPOCHS, shuffle=True,\n",
        "    verbose=1, \n",
        "    validation_split = 0.2,\n",
        "    callbacks=callbacks_list)\n",
        "\n",
        "model.save(PATH_DRIVE+'models/model2.h5')\n"
      ],
      "execution_count": 11,
      "outputs": [
        {
          "output_type": "stream",
          "text": [
            "WARNING:tensorflow:From /usr/local/lib/python3.6/dist-packages/keras/backend/tensorflow_backend.py:1033: The name tf.assign_add is deprecated. Please use tf.compat.v1.assign_add instead.\n",
            "\n",
            "WARNING:tensorflow:From /usr/local/lib/python3.6/dist-packages/keras/backend/tensorflow_backend.py:1020: The name tf.assign is deprecated. Please use tf.compat.v1.assign instead.\n",
            "\n",
            "Train on 5332 samples, validate on 1334 samples\n",
            "WARNING:tensorflow:From /usr/local/lib/python3.6/dist-packages/tensorboardcolab/core.py:49: The name tf.summary.FileWriter is deprecated. Please use tf.compat.v1.summary.FileWriter instead.\n",
            "\n",
            "WARNING:tensorflow:From /usr/local/lib/python3.6/dist-packages/keras/callbacks.py:1122: The name tf.summary.merge_all is deprecated. Please use tf.compat.v1.summary.merge_all instead.\n",
            "\n",
            "Epoch 1/100\n",
            "5332/5332 [==============================] - 13s 2ms/step - loss: 0.2435 - mean_absolute_error: 0.2629 - val_loss: 0.0435 - val_mean_absolute_error: 0.1760\n",
            "WARNING:tensorflow:From /usr/local/lib/python3.6/dist-packages/tensorboardcolab/callbacks.py:51: The name tf.Summary is deprecated. Please use tf.compat.v1.Summary instead.\n",
            "\n",
            "Epoch 2/100\n",
            "5332/5332 [==============================] - 4s 717us/step - loss: 0.0259 - mean_absolute_error: 0.1343 - val_loss: 0.0409 - val_mean_absolute_error: 0.1685\n",
            "Epoch 3/100\n",
            "5332/5332 [==============================] - 4s 719us/step - loss: 0.0227 - mean_absolute_error: 0.1248 - val_loss: 0.0385 - val_mean_absolute_error: 0.1607\n",
            "Epoch 4/100\n",
            "5332/5332 [==============================] - 4s 718us/step - loss: 0.0197 - mean_absolute_error: 0.1150 - val_loss: 0.0364 - val_mean_absolute_error: 0.1529\n",
            "Epoch 5/100\n",
            "5332/5332 [==============================] - 4s 719us/step - loss: 0.0169 - mean_absolute_error: 0.1054 - val_loss: 0.0346 - val_mean_absolute_error: 0.1455\n",
            "Epoch 6/100\n",
            "5332/5332 [==============================] - 4s 722us/step - loss: 0.0145 - mean_absolute_error: 0.0964 - val_loss: 0.0331 - val_mean_absolute_error: 0.1386\n",
            "Epoch 7/100\n",
            "5332/5332 [==============================] - 4s 721us/step - loss: 0.0124 - mean_absolute_error: 0.0880 - val_loss: 0.0319 - val_mean_absolute_error: 0.1323\n",
            "Epoch 8/100\n",
            "5332/5332 [==============================] - 4s 723us/step - loss: 0.0106 - mean_absolute_error: 0.0805 - val_loss: 0.0310 - val_mean_absolute_error: 0.1267\n",
            "Epoch 9/100\n",
            "5332/5332 [==============================] - 4s 724us/step - loss: 0.0091 - mean_absolute_error: 0.0737 - val_loss: 0.0302 - val_mean_absolute_error: 0.1216\n",
            "Epoch 10/100\n",
            "5332/5332 [==============================] - 4s 719us/step - loss: 0.0079 - mean_absolute_error: 0.0678 - val_loss: 0.0296 - val_mean_absolute_error: 0.1172\n",
            "Epoch 11/100\n",
            "5332/5332 [==============================] - 4s 719us/step - loss: 0.0068 - mean_absolute_error: 0.0626 - val_loss: 0.0292 - val_mean_absolute_error: 0.1134\n",
            "Epoch 12/100\n",
            "5332/5332 [==============================] - 4s 720us/step - loss: 0.0059 - mean_absolute_error: 0.0581 - val_loss: 0.0289 - val_mean_absolute_error: 0.1102\n",
            "Epoch 13/100\n",
            "5332/5332 [==============================] - 4s 719us/step - loss: 0.0052 - mean_absolute_error: 0.0543 - val_loss: 0.0287 - val_mean_absolute_error: 0.1075\n",
            "Epoch 14/100\n",
            "5332/5332 [==============================] - 4s 719us/step - loss: 0.0046 - mean_absolute_error: 0.0511 - val_loss: 0.0286 - val_mean_absolute_error: 0.1052\n",
            "Epoch 15/100\n",
            "5332/5332 [==============================] - 4s 724us/step - loss: 0.0042 - mean_absolute_error: 0.0484 - val_loss: 0.0285 - val_mean_absolute_error: 0.1033\n",
            "Epoch 16/100\n",
            "5332/5332 [==============================] - 4s 720us/step - loss: 0.0038 - mean_absolute_error: 0.0461 - val_loss: 0.0285 - val_mean_absolute_error: 0.1017\n",
            "Epoch 17/100\n",
            "5332/5332 [==============================] - 4s 717us/step - loss: 0.0035 - mean_absolute_error: 0.0443 - val_loss: 0.0285 - val_mean_absolute_error: 0.1005\n",
            "Epoch 18/100\n",
            "5332/5332 [==============================] - 4s 717us/step - loss: 0.0032 - mean_absolute_error: 0.0427 - val_loss: 0.0286 - val_mean_absolute_error: 0.0994\n",
            "Epoch 19/100\n",
            "5332/5332 [==============================] - 4s 717us/step - loss: 0.0030 - mean_absolute_error: 0.0415 - val_loss: 0.0286 - val_mean_absolute_error: 0.0985\n",
            "Epoch 20/100\n",
            "5332/5332 [==============================] - 4s 720us/step - loss: 0.0028 - mean_absolute_error: 0.0404 - val_loss: 0.0287 - val_mean_absolute_error: 0.0978\n",
            "Epoch 21/100\n",
            "5332/5332 [==============================] - 4s 719us/step - loss: 0.0027 - mean_absolute_error: 0.0396 - val_loss: 0.0288 - val_mean_absolute_error: 0.0973\n",
            "Epoch 22/100\n",
            "5332/5332 [==============================] - 4s 717us/step - loss: 0.0026 - mean_absolute_error: 0.0389 - val_loss: 0.0288 - val_mean_absolute_error: 0.0968\n",
            "Epoch 23/100\n",
            "5332/5332 [==============================] - 4s 721us/step - loss: 0.0025 - mean_absolute_error: 0.0383 - val_loss: 0.0289 - val_mean_absolute_error: 0.0965\n",
            "Epoch 24/100\n",
            "5332/5332 [==============================] - 4s 720us/step - loss: 0.0024 - mean_absolute_error: 0.0379 - val_loss: 0.0290 - val_mean_absolute_error: 0.0962\n",
            "Epoch 25/100\n",
            "5332/5332 [==============================] - 4s 719us/step - loss: 0.0024 - mean_absolute_error: 0.0375 - val_loss: 0.0290 - val_mean_absolute_error: 0.0960\n",
            "Epoch 26/100\n",
            "5332/5332 [==============================] - 4s 722us/step - loss: 0.0023 - mean_absolute_error: 0.0372 - val_loss: 0.0291 - val_mean_absolute_error: 0.0958\n",
            "Epoch 27/100\n",
            "5332/5332 [==============================] - 4s 720us/step - loss: 0.0023 - mean_absolute_error: 0.0370 - val_loss: 0.0292 - val_mean_absolute_error: 0.0956\n",
            "Epoch 28/100\n",
            "5332/5332 [==============================] - 4s 723us/step - loss: 0.0023 - mean_absolute_error: 0.0368 - val_loss: 0.0292 - val_mean_absolute_error: 0.0955\n",
            "Epoch 29/100\n",
            "5332/5332 [==============================] - 4s 719us/step - loss: 0.0023 - mean_absolute_error: 0.0366 - val_loss: 0.0293 - val_mean_absolute_error: 0.0954\n",
            "Epoch 30/100\n",
            "5332/5332 [==============================] - 4s 718us/step - loss: 0.0022 - mean_absolute_error: 0.0365 - val_loss: 0.0293 - val_mean_absolute_error: 0.0953\n",
            "Epoch 31/100\n",
            "5332/5332 [==============================] - 4s 717us/step - loss: 0.0022 - mean_absolute_error: 0.0364 - val_loss: 0.0294 - val_mean_absolute_error: 0.0953\n",
            "Epoch 32/100\n",
            "5332/5332 [==============================] - 4s 717us/step - loss: 0.0022 - mean_absolute_error: 0.0363 - val_loss: 0.0294 - val_mean_absolute_error: 0.0952\n",
            "Epoch 33/100\n",
            "5332/5332 [==============================] - 4s 720us/step - loss: 0.0022 - mean_absolute_error: 0.0362 - val_loss: 0.0294 - val_mean_absolute_error: 0.0952\n",
            "Epoch 34/100\n",
            "5332/5332 [==============================] - 4s 718us/step - loss: 0.0022 - mean_absolute_error: 0.0362 - val_loss: 0.0295 - val_mean_absolute_error: 0.0952\n",
            "Epoch 35/100\n",
            "5332/5332 [==============================] - 4s 717us/step - loss: 0.0022 - mean_absolute_error: 0.0361 - val_loss: 0.0295 - val_mean_absolute_error: 0.0952\n",
            "Epoch 36/100\n",
            "5332/5332 [==============================] - 4s 720us/step - loss: 0.0022 - mean_absolute_error: 0.0361 - val_loss: 0.0295 - val_mean_absolute_error: 0.0951\n",
            "Epoch 37/100\n",
            "5332/5332 [==============================] - 4s 719us/step - loss: 0.0022 - mean_absolute_error: 0.0361 - val_loss: 0.0295 - val_mean_absolute_error: 0.0952\n",
            "Epoch 38/100\n",
            "5332/5332 [==============================] - 4s 718us/step - loss: 0.0022 - mean_absolute_error: 0.0360 - val_loss: 0.0295 - val_mean_absolute_error: 0.0951\n",
            "Epoch 39/100\n",
            "5332/5332 [==============================] - 4s 719us/step - loss: 0.0022 - mean_absolute_error: 0.0360 - val_loss: 0.0296 - val_mean_absolute_error: 0.0951\n",
            "Epoch 40/100\n",
            "5332/5332 [==============================] - 4s 722us/step - loss: 0.0022 - mean_absolute_error: 0.0360 - val_loss: 0.0296 - val_mean_absolute_error: 0.0951\n",
            "Epoch 41/100\n",
            "5332/5332 [==============================] - 4s 719us/step - loss: 0.0022 - mean_absolute_error: 0.0360 - val_loss: 0.0296 - val_mean_absolute_error: 0.0951\n",
            "Epoch 42/100\n",
            "5332/5332 [==============================] - 4s 719us/step - loss: 0.0022 - mean_absolute_error: 0.0360 - val_loss: 0.0296 - val_mean_absolute_error: 0.0951\n",
            "Epoch 43/100\n",
            "5332/5332 [==============================] - 4s 723us/step - loss: 0.0022 - mean_absolute_error: 0.0360 - val_loss: 0.0296 - val_mean_absolute_error: 0.0951\n",
            "Epoch 44/100\n",
            "5332/5332 [==============================] - 4s 722us/step - loss: 0.0022 - mean_absolute_error: 0.0360 - val_loss: 0.0296 - val_mean_absolute_error: 0.0951\n",
            "Epoch 45/100\n",
            "5332/5332 [==============================] - 4s 719us/step - loss: 0.0022 - mean_absolute_error: 0.0360 - val_loss: 0.0296 - val_mean_absolute_error: 0.0951\n",
            "Epoch 46/100\n",
            "5332/5332 [==============================] - 4s 719us/step - loss: 0.0022 - mean_absolute_error: 0.0360 - val_loss: 0.0296 - val_mean_absolute_error: 0.0951\n",
            "Epoch 47/100\n",
            "5332/5332 [==============================] - 4s 718us/step - loss: 0.0022 - mean_absolute_error: 0.0360 - val_loss: 0.0296 - val_mean_absolute_error: 0.0951\n",
            "Epoch 48/100\n",
            "5332/5332 [==============================] - 4s 720us/step - loss: 0.0022 - mean_absolute_error: 0.0360 - val_loss: 0.0296 - val_mean_absolute_error: 0.0951\n",
            "Epoch 49/100\n",
            "5332/5332 [==============================] - 4s 717us/step - loss: 0.0022 - mean_absolute_error: 0.0360 - val_loss: 0.0296 - val_mean_absolute_error: 0.0951\n",
            "Epoch 50/100\n",
            "5332/5332 [==============================] - 4s 718us/step - loss: 0.0022 - mean_absolute_error: 0.0360 - val_loss: 0.0296 - val_mean_absolute_error: 0.0951\n",
            "Epoch 51/100\n",
            "5332/5332 [==============================] - 4s 717us/step - loss: 0.0022 - mean_absolute_error: 0.0360 - val_loss: 0.0296 - val_mean_absolute_error: 0.0951\n",
            "Epoch 52/100\n",
            "5332/5332 [==============================] - 4s 718us/step - loss: 0.0022 - mean_absolute_error: 0.0360 - val_loss: 0.0296 - val_mean_absolute_error: 0.0951\n",
            "Epoch 53/100\n",
            "5332/5332 [==============================] - 4s 716us/step - loss: 0.0022 - mean_absolute_error: 0.0360 - val_loss: 0.0296 - val_mean_absolute_error: 0.0951\n",
            "Epoch 54/100\n",
            "5332/5332 [==============================] - 4s 718us/step - loss: 0.0022 - mean_absolute_error: 0.0360 - val_loss: 0.0296 - val_mean_absolute_error: 0.0951\n",
            "Epoch 55/100\n",
            "5332/5332 [==============================] - 4s 720us/step - loss: 0.0022 - mean_absolute_error: 0.0360 - val_loss: 0.0296 - val_mean_absolute_error: 0.0951\n",
            "Epoch 56/100\n",
            "5332/5332 [==============================] - 4s 719us/step - loss: 0.0022 - mean_absolute_error: 0.0360 - val_loss: 0.0296 - val_mean_absolute_error: 0.0951\n",
            "Epoch 57/100\n",
            "5332/5332 [==============================] - 4s 722us/step - loss: 0.0022 - mean_absolute_error: 0.0360 - val_loss: 0.0296 - val_mean_absolute_error: 0.0951\n",
            "Epoch 58/100\n",
            "5332/5332 [==============================] - 4s 717us/step - loss: 0.0022 - mean_absolute_error: 0.0360 - val_loss: 0.0296 - val_mean_absolute_error: 0.0951\n",
            "Epoch 59/100\n",
            "5332/5332 [==============================] - 4s 719us/step - loss: 0.0022 - mean_absolute_error: 0.0360 - val_loss: 0.0296 - val_mean_absolute_error: 0.0951\n",
            "Epoch 60/100\n",
            "5332/5332 [==============================] - 4s 717us/step - loss: 0.0022 - mean_absolute_error: 0.0360 - val_loss: 0.0296 - val_mean_absolute_error: 0.0951\n",
            "Epoch 61/100\n",
            "5332/5332 [==============================] - 4s 722us/step - loss: 0.0022 - mean_absolute_error: 0.0360 - val_loss: 0.0296 - val_mean_absolute_error: 0.0951\n",
            "Epoch 62/100\n",
            "5332/5332 [==============================] - 4s 718us/step - loss: 0.0022 - mean_absolute_error: 0.0360 - val_loss: 0.0296 - val_mean_absolute_error: 0.0951\n",
            "Epoch 63/100\n",
            "5332/5332 [==============================] - 4s 716us/step - loss: 0.0022 - mean_absolute_error: 0.0360 - val_loss: 0.0296 - val_mean_absolute_error: 0.0951\n",
            "Epoch 64/100\n",
            "5332/5332 [==============================] - 4s 719us/step - loss: 0.0022 - mean_absolute_error: 0.0360 - val_loss: 0.0296 - val_mean_absolute_error: 0.0951\n",
            "Epoch 65/100\n",
            "5332/5332 [==============================] - 4s 718us/step - loss: 0.0022 - mean_absolute_error: 0.0360 - val_loss: 0.0296 - val_mean_absolute_error: 0.0951\n",
            "Epoch 66/100\n",
            "5332/5332 [==============================] - 4s 718us/step - loss: 0.0022 - mean_absolute_error: 0.0360 - val_loss: 0.0296 - val_mean_absolute_error: 0.0951\n",
            "Epoch 67/100\n",
            "5332/5332 [==============================] - 4s 719us/step - loss: 0.0022 - mean_absolute_error: 0.0360 - val_loss: 0.0296 - val_mean_absolute_error: 0.0951\n",
            "Epoch 68/100\n",
            "5332/5332 [==============================] - 4s 719us/step - loss: 0.0022 - mean_absolute_error: 0.0360 - val_loss: 0.0296 - val_mean_absolute_error: 0.0951\n",
            "Epoch 69/100\n",
            "5332/5332 [==============================] - 4s 716us/step - loss: 0.0022 - mean_absolute_error: 0.0360 - val_loss: 0.0296 - val_mean_absolute_error: 0.0951\n",
            "Epoch 70/100\n",
            "5332/5332 [==============================] - 4s 717us/step - loss: 0.0022 - mean_absolute_error: 0.0360 - val_loss: 0.0296 - val_mean_absolute_error: 0.0951\n",
            "Epoch 71/100\n",
            "5332/5332 [==============================] - 4s 718us/step - loss: 0.0022 - mean_absolute_error: 0.0360 - val_loss: 0.0296 - val_mean_absolute_error: 0.0951\n",
            "Epoch 72/100\n",
            "5332/5332 [==============================] - 4s 718us/step - loss: 0.0022 - mean_absolute_error: 0.0360 - val_loss: 0.0296 - val_mean_absolute_error: 0.0951\n",
            "Epoch 73/100\n",
            "5332/5332 [==============================] - 4s 719us/step - loss: 0.0022 - mean_absolute_error: 0.0360 - val_loss: 0.0296 - val_mean_absolute_error: 0.0951\n",
            "Epoch 74/100\n",
            "5332/5332 [==============================] - 4s 717us/step - loss: 0.0022 - mean_absolute_error: 0.0360 - val_loss: 0.0296 - val_mean_absolute_error: 0.0951\n",
            "Epoch 75/100\n",
            "5332/5332 [==============================] - 4s 716us/step - loss: 0.0022 - mean_absolute_error: 0.0360 - val_loss: 0.0297 - val_mean_absolute_error: 0.0951\n",
            "Epoch 76/100\n",
            "5332/5332 [==============================] - 4s 721us/step - loss: 0.0022 - mean_absolute_error: 0.0360 - val_loss: 0.0296 - val_mean_absolute_error: 0.0951\n",
            "Epoch 77/100\n",
            "5332/5332 [==============================] - 4s 718us/step - loss: 0.0022 - mean_absolute_error: 0.0360 - val_loss: 0.0296 - val_mean_absolute_error: 0.0951\n",
            "Epoch 78/100\n",
            "5332/5332 [==============================] - 4s 717us/step - loss: 0.0022 - mean_absolute_error: 0.0360 - val_loss: 0.0296 - val_mean_absolute_error: 0.0951\n",
            "Epoch 79/100\n",
            "5332/5332 [==============================] - 4s 715us/step - loss: 0.0022 - mean_absolute_error: 0.0360 - val_loss: 0.0296 - val_mean_absolute_error: 0.0951\n",
            "Epoch 80/100\n",
            "5332/5332 [==============================] - 4s 716us/step - loss: 0.0022 - mean_absolute_error: 0.0360 - val_loss: 0.0296 - val_mean_absolute_error: 0.0951\n",
            "Epoch 81/100\n",
            "5332/5332 [==============================] - 4s 719us/step - loss: 0.0022 - mean_absolute_error: 0.0360 - val_loss: 0.0297 - val_mean_absolute_error: 0.0951\n",
            "Epoch 82/100\n",
            "5332/5332 [==============================] - 4s 721us/step - loss: 0.0022 - mean_absolute_error: 0.0360 - val_loss: 0.0296 - val_mean_absolute_error: 0.0951\n",
            "Epoch 83/100\n",
            "5332/5332 [==============================] - 4s 718us/step - loss: 0.0022 - mean_absolute_error: 0.0360 - val_loss: 0.0296 - val_mean_absolute_error: 0.0951\n",
            "Epoch 84/100\n",
            "5332/5332 [==============================] - 4s 721us/step - loss: 0.0022 - mean_absolute_error: 0.0360 - val_loss: 0.0296 - val_mean_absolute_error: 0.0951\n",
            "Epoch 85/100\n",
            "5332/5332 [==============================] - 4s 719us/step - loss: 0.0022 - mean_absolute_error: 0.0360 - val_loss: 0.0296 - val_mean_absolute_error: 0.0951\n",
            "Epoch 86/100\n",
            "5332/5332 [==============================] - 4s 721us/step - loss: 0.0022 - mean_absolute_error: 0.0360 - val_loss: 0.0296 - val_mean_absolute_error: 0.0951\n",
            "Epoch 87/100\n",
            "5332/5332 [==============================] - 4s 720us/step - loss: 0.0022 - mean_absolute_error: 0.0360 - val_loss: 0.0296 - val_mean_absolute_error: 0.0951\n",
            "Epoch 88/100\n",
            "5332/5332 [==============================] - 4s 720us/step - loss: 0.0022 - mean_absolute_error: 0.0360 - val_loss: 0.0296 - val_mean_absolute_error: 0.0951\n",
            "Epoch 89/100\n",
            "5332/5332 [==============================] - 4s 721us/step - loss: 0.0022 - mean_absolute_error: 0.0360 - val_loss: 0.0297 - val_mean_absolute_error: 0.0951\n",
            "Epoch 90/100\n",
            "5332/5332 [==============================] - 4s 720us/step - loss: 0.0022 - mean_absolute_error: 0.0360 - val_loss: 0.0296 - val_mean_absolute_error: 0.0951\n",
            "Epoch 91/100\n",
            "5332/5332 [==============================] - 4s 720us/step - loss: 0.0022 - mean_absolute_error: 0.0360 - val_loss: 0.0296 - val_mean_absolute_error: 0.0951\n",
            "Epoch 92/100\n",
            "5332/5332 [==============================] - 4s 715us/step - loss: 0.0022 - mean_absolute_error: 0.0360 - val_loss: 0.0296 - val_mean_absolute_error: 0.0951\n",
            "Epoch 93/100\n",
            "5332/5332 [==============================] - 4s 720us/step - loss: 0.0022 - mean_absolute_error: 0.0360 - val_loss: 0.0296 - val_mean_absolute_error: 0.0951\n",
            "Epoch 94/100\n",
            "5332/5332 [==============================] - 4s 719us/step - loss: 0.0022 - mean_absolute_error: 0.0360 - val_loss: 0.0296 - val_mean_absolute_error: 0.0951\n",
            "Epoch 95/100\n",
            "5332/5332 [==============================] - 4s 719us/step - loss: 0.0022 - mean_absolute_error: 0.0360 - val_loss: 0.0296 - val_mean_absolute_error: 0.0951\n",
            "Epoch 96/100\n",
            "5332/5332 [==============================] - 4s 719us/step - loss: 0.0022 - mean_absolute_error: 0.0360 - val_loss: 0.0296 - val_mean_absolute_error: 0.0951\n",
            "Epoch 97/100\n",
            "5332/5332 [==============================] - 4s 721us/step - loss: 0.0022 - mean_absolute_error: 0.0360 - val_loss: 0.0296 - val_mean_absolute_error: 0.0951\n",
            "Epoch 98/100\n",
            "5332/5332 [==============================] - 4s 720us/step - loss: 0.0022 - mean_absolute_error: 0.0360 - val_loss: 0.0296 - val_mean_absolute_error: 0.0951\n",
            "Epoch 99/100\n",
            "5332/5332 [==============================] - 4s 721us/step - loss: 0.0022 - mean_absolute_error: 0.0360 - val_loss: 0.0296 - val_mean_absolute_error: 0.0951\n",
            "Epoch 100/100\n",
            "5332/5332 [==============================] - 4s 720us/step - loss: 0.0022 - mean_absolute_error: 0.0360 - val_loss: 0.0297 - val_mean_absolute_error: 0.0951\n"
          ],
          "name": "stdout"
        }
      ]
    }
  ]
}
