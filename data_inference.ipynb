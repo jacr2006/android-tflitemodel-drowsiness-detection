{
  "nbformat": 4,
  "nbformat_minor": 0,
  "metadata": {
    "colab": {
      "name": "data_inference.ipynb",
      "provenance": [],
      "collapsed_sections": [],
      "include_colab_link": true
    },
    "kernelspec": {
      "name": "python3",
      "display_name": "Python 3"
    },
    "accelerator": "GPU"
  },
  "cells": [
    {
      "cell_type": "markdown",
      "metadata": {
        "id": "view-in-github",
        "colab_type": "text"
      },
      "source": [
        "<a href=\"https://colab.research.google.com/github/jacr2006/android-tflitemodel-drowsiness-detection/blob/master/data_inference.ipynb\" target=\"_parent\"><img src=\"https://colab.research.google.com/assets/colab-badge.svg\" alt=\"Open In Colab\"/></a>"
      ]
    },
    {
      "cell_type": "code",
      "metadata": {
        "id": "xtukprCzmsrl",
        "colab_type": "code",
        "outputId": "4b875029-a6f7-44ff-cc21-0b6db317d8a9",
        "colab": {
          "base_uri": "https://localhost:8080/",
          "height": 122
        }
      },
      "source": [
        "from google.colab import drive\n",
        "drive.mount('/content/drive')"
      ],
      "execution_count": 0,
      "outputs": [
        {
          "output_type": "stream",
          "text": [
            "Go to this URL in a browser: https://accounts.google.com/o/oauth2/auth?client_id=947318989803-6bn6qk8qdgf4n4g3pfee6491hc0brc4i.apps.googleusercontent.com&redirect_uri=urn%3aietf%3awg%3aoauth%3a2.0%3aoob&response_type=code&scope=email%20https%3a%2f%2fwww.googleapis.com%2fauth%2fdocs.test%20https%3a%2f%2fwww.googleapis.com%2fauth%2fdrive%20https%3a%2f%2fwww.googleapis.com%2fauth%2fdrive.photos.readonly%20https%3a%2f%2fwww.googleapis.com%2fauth%2fpeopleapi.readonly\n",
            "\n",
            "Enter your authorization code:\n",
            "··········\n",
            "Mounted at /content/drive\n"
          ],
          "name": "stdout"
        }
      ]
    },
    {
      "cell_type": "code",
      "metadata": {
        "id": "qj8a7Xr22bfD",
        "colab_type": "code",
        "outputId": "8a8de844-e005-4981-f3e7-c8822f15c400",
        "colab": {
          "base_uri": "https://localhost:8080/",
          "height": 105
        }
      },
      "source": [
        "pip install xmltodict"
      ],
      "execution_count": 0,
      "outputs": [
        {
          "output_type": "stream",
          "text": [
            "Collecting xmltodict\n",
            "  Downloading https://files.pythonhosted.org/packages/28/fd/30d5c1d3ac29ce229f6bdc40bbc20b28f716e8b363140c26eff19122d8a5/xmltodict-0.12.0-py2.py3-none-any.whl\n",
            "Installing collected packages: xmltodict\n",
            "Successfully installed xmltodict-0.12.0\n"
          ],
          "name": "stdout"
        }
      ]
    },
    {
      "cell_type": "code",
      "metadata": {
        "id": "-HWqvfzo2fmO",
        "colab_type": "code",
        "outputId": "56a4573c-1702-4a46-c594-7bee8db0cc62",
        "colab": {
          "base_uri": "https://localhost:8080/",
          "height": 80
        }
      },
      "source": [
        "import xmltodict\n",
        "import matplotlib.pyplot as plt\n",
        "import matplotlib.image as mpimg\n",
        "from matplotlib.patches import Rectangle\n",
        "import cv2\n",
        "from google.colab.patches import cv2_imshow\n",
        "import numpy as np\n",
        "from keras.models import load_model"
      ],
      "execution_count": 0,
      "outputs": [
        {
          "output_type": "stream",
          "text": [
            "Using TensorFlow backend.\n"
          ],
          "name": "stderr"
        },
        {
          "output_type": "display_data",
          "data": {
            "text/html": [
              "<p style=\"color: red;\">\n",
              "The default version of TensorFlow in Colab will soon switch to TensorFlow 2.x.<br>\n",
              "We recommend you <a href=\"https://www.tensorflow.org/guide/migrate\" target=\"_blank\">upgrade</a> now \n",
              "or ensure your notebook will continue to use TensorFlow 1.x via the <code>%tensorflow_version 1.x</code> magic:\n",
              "<a href=\"https://colab.research.google.com/notebooks/tensorflow_version.ipynb\" target=\"_blank\">more info</a>.</p>\n"
            ],
            "text/plain": [
              "<IPython.core.display.HTML object>"
            ]
          },
          "metadata": {
            "tags": []
          }
        }
      ]
    },
    {
      "cell_type": "code",
      "metadata": {
        "id": "Mtpd5FoVoJNy",
        "colab_type": "code",
        "colab": {}
      },
      "source": [
        "PATH_DRIVE = '/content/drive/My Drive/Proyectos Nuevos/ML/multiclass_landmark_keras_cnn/'\n",
        "PATH_DATASET = 'ibug_300W_large_face_landmark_dataset/'\n",
        "MODEL_PATH = PATH_DRIVE+'models/model2.h5'\n",
        "\n",
        "pathXml = PATH_DRIVE + PATH_DATASET + 'labels_ibug_300W_test.xml'# archivo con los datos de prueba\n",
        "with open(pathXml, 'r') as file:\n",
        "  dict = xmltodict.parse(file.read())# lectura del archivo xml y conversion a diccionario"
      ],
      "execution_count": 0,
      "outputs": []
    },
    {
      "cell_type": "markdown",
      "metadata": {
        "id": "4piNFG5g2kOy",
        "colab_type": "text"
      },
      "source": [
        "###**Inferencia**\n",
        "Inferencia de datos sobre el modelo entrenado"
      ]
    },
    {
      "cell_type": "code",
      "metadata": {
        "id": "jBeCKT0y3fkt",
        "colab_type": "code",
        "outputId": "ed89f8f2-ab90-4788-9702-3041f2554262",
        "colab": {
          "base_uri": "https://localhost:8080/",
          "height": 102
        }
      },
      "source": [
        "IMG_NUM=246# seleccion de una imagen de los datos de prueba\n",
        "pathImg = dict['dataset']['images']['image'][IMG_NUM]['@file']# ruta de la imagen\n",
        "\n",
        "x=[]\n",
        "y=[]\n",
        "for i in range(68):# marcas faciales de la imagen\n",
        "  x.append( int(dict['dataset']['images']['image'][IMG_NUM]['box']['part'][i]['@x']) )\n",
        "  y.append( int(dict['dataset']['images']['image'][IMG_NUM]['box']['part'][i]['@y']) )\n",
        "\n",
        "left = int( dict['dataset']['images']['image'][IMG_NUM]['box']['@left'] )# rectangulo sobre el rostro, asi que no es necesario usar ningun algoritmo de deteccion de rostros\n",
        "top = int( dict['dataset']['images']['image'][IMG_NUM]['box']['@top'] )\n",
        "width = int( dict['dataset']['images']['image'][IMG_NUM]['box']['@width'] )\n",
        "height = int( dict['dataset']['images']['image'][IMG_NUM]['box']['@height'] )\n",
        "\n",
        "print(pathImg)\n",
        "print(left)\n",
        "print(top)\n",
        "print(width)\n",
        "print(height)\n"
      ],
      "execution_count": 0,
      "outputs": [
        {
          "output_type": "stream",
          "text": [
            "lfpw/trainset/image_0573.png\n",
            "292\n",
            "27\n",
            "151\n",
            "150\n"
          ],
          "name": "stdout"
        }
      ]
    },
    {
      "cell_type": "code",
      "metadata": {
        "id": "6Tz2FRrx3sEQ",
        "colab_type": "code",
        "outputId": "9105749c-8c3e-4f91-9652-581e27057925",
        "colab": {
          "base_uri": "https://localhost:8080/",
          "height": 748
        }
      },
      "source": [
        "IMG_WIDTH = 96# tamaño de a imagen de entrada de la CNN\n",
        "IMG_HEIGHT = 96\n",
        "IMG_CHANNEL = 1# imagen en escala de grises\n",
        "#N_LANDMARK = 68# numero de marcas faciales\n",
        "N_LANDMARK = 12# numero de marcas faciales\n",
        "\n",
        "img=cv2.imread( PATH_DRIVE + PATH_DATASET + pathImg )\n",
        "cropImg = img[top:top+height, left:left+width]# recorte de la imagen al tamaño de la region de interes (ROI)\n",
        "\n",
        "xcrop=[]\n",
        "ycrop=[]\n",
        "#for i in range(68):# escalado de las marcas faciales a la ROI\n",
        "for i in range(36,48):# escalado de las marcas faciales a la ROI\n",
        "  xcrop.append( x[i]-left )\n",
        "  ycrop.append( y[i]-top )\n",
        "\n",
        "mcrop=list(zip(xcrop,ycrop))\n",
        "\n",
        "grayImg = cv2.cvtColor( cropImg, cv2.COLOR_BGR2GRAY )# conversion de RGB a escala de grises con opencv.\n",
        "rezImg = cv2.resize( grayImg, ( IMG_WIDTH, IMG_HEIGHT ) )# escalado de la imagen usando opencv\n",
        "rshImg = rezImg.reshape(1, IMG_HEIGHT, IMG_WIDTH, IMG_CHANNEL)#reordenamiento de la imagen de acuerdo a la entrada requerida por la CNN\n",
        "\n",
        "_model = load_model(MODEL_PATH)\n",
        "res = _model.predict(rshImg)# inferencia del modelo\n",
        "\n",
        "res = res.reshape( 1, N_LANDMARK, 2 )#\n",
        "marks = res\n",
        "\n",
        "for i in range(N_LANDMARK):# escalado de las marcas faciales a la imagen del rectangulo\n",
        "  cv2.circle( grayImg, ( int(marks[0,i,0]*cropImg.shape[0]/IMG_WIDTH), \n",
        "                        int(marks[0,i,1]*cropImg.shape[1]/IMG_HEIGHT) ), \n",
        "                        1, (255, 0, 0), -1 )#dibuja la inferencia sobre la imagen\n",
        "\n",
        "cv2_imshow(grayImg)# despliegue de la imagen del rectangulo"
      ],
      "execution_count": 0,
      "outputs": [
        {
          "output_type": "stream",
          "text": [
            "WARNING:tensorflow:From /usr/local/lib/python3.6/dist-packages/keras/backend/tensorflow_backend.py:541: The name tf.placeholder is deprecated. Please use tf.compat.v1.placeholder instead.\n",
            "\n",
            "WARNING:tensorflow:From /usr/local/lib/python3.6/dist-packages/keras/backend/tensorflow_backend.py:4432: The name tf.random_uniform is deprecated. Please use tf.random.uniform instead.\n",
            "\n",
            "WARNING:tensorflow:From /usr/local/lib/python3.6/dist-packages/keras/backend/tensorflow_backend.py:66: The name tf.get_default_graph is deprecated. Please use tf.compat.v1.get_default_graph instead.\n",
            "\n",
            "WARNING:tensorflow:From /usr/local/lib/python3.6/dist-packages/keras/backend/tensorflow_backend.py:190: The name tf.get_default_session is deprecated. Please use tf.compat.v1.get_default_session instead.\n",
            "\n",
            "WARNING:tensorflow:From /usr/local/lib/python3.6/dist-packages/keras/backend/tensorflow_backend.py:197: The name tf.ConfigProto is deprecated. Please use tf.compat.v1.ConfigProto instead.\n",
            "\n",
            "WARNING:tensorflow:From /usr/local/lib/python3.6/dist-packages/keras/backend/tensorflow_backend.py:203: The name tf.Session is deprecated. Please use tf.compat.v1.Session instead.\n",
            "\n",
            "WARNING:tensorflow:From /usr/local/lib/python3.6/dist-packages/keras/backend/tensorflow_backend.py:207: The name tf.global_variables is deprecated. Please use tf.compat.v1.global_variables instead.\n",
            "\n",
            "WARNING:tensorflow:From /usr/local/lib/python3.6/dist-packages/keras/backend/tensorflow_backend.py:216: The name tf.is_variable_initialized is deprecated. Please use tf.compat.v1.is_variable_initialized instead.\n",
            "\n",
            "WARNING:tensorflow:From /usr/local/lib/python3.6/dist-packages/keras/backend/tensorflow_backend.py:223: The name tf.variables_initializer is deprecated. Please use tf.compat.v1.variables_initializer instead.\n",
            "\n",
            "WARNING:tensorflow:From /usr/local/lib/python3.6/dist-packages/keras/backend/tensorflow_backend.py:2041: The name tf.nn.fused_batch_norm is deprecated. Please use tf.compat.v1.nn.fused_batch_norm instead.\n",
            "\n",
            "WARNING:tensorflow:From /usr/local/lib/python3.6/dist-packages/keras/backend/tensorflow_backend.py:148: The name tf.placeholder_with_default is deprecated. Please use tf.compat.v1.placeholder_with_default instead.\n",
            "\n",
            "WARNING:tensorflow:From /usr/local/lib/python3.6/dist-packages/keras/backend/tensorflow_backend.py:4267: The name tf.nn.max_pool is deprecated. Please use tf.nn.max_pool2d instead.\n",
            "\n",
            "WARNING:tensorflow:From /usr/local/lib/python3.6/dist-packages/keras/backend/tensorflow_backend.py:3733: calling dropout (from tensorflow.python.ops.nn_ops) with keep_prob is deprecated and will be removed in a future version.\n",
            "Instructions for updating:\n",
            "Please use `rate` instead of `keep_prob`. Rate should be set to `rate = 1 - keep_prob`.\n",
            "WARNING:tensorflow:From /usr/local/lib/python3.6/dist-packages/keras/optimizers.py:793: The name tf.train.Optimizer is deprecated. Please use tf.compat.v1.train.Optimizer instead.\n",
            "\n",
            "WARNING:tensorflow:From /usr/local/lib/python3.6/dist-packages/keras/backend/tensorflow_backend.py:1033: The name tf.assign_add is deprecated. Please use tf.compat.v1.assign_add instead.\n",
            "\n",
            "WARNING:tensorflow:From /usr/local/lib/python3.6/dist-packages/keras/backend/tensorflow_backend.py:1020: The name tf.assign is deprecated. Please use tf.compat.v1.assign instead.\n",
            "\n"
          ],
          "name": "stdout"
        },
        {
          "output_type": "display_data",
          "data": {
            "image/png": "[encoded data removed]",
            "text/plain": [
              "<PIL.Image.Image image mode=L size=151x150 at 0x7FEF78087160>"
            ]
          },
          "metadata": {
            "tags": []
          }
        }
      ]
    }
  ]
}