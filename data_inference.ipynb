{
  "nbformat": 4,
  "nbformat_minor": 0,
  "metadata": {
    "colab": {
      "name": "data_inference.ipynb",
      "provenance": [],
      "collapsed_sections": [],
      "include_colab_link": true
    },
    "kernelspec": {
      "name": "python3",
      "display_name": "Python 3"
    },
    "accelerator": "GPU"
  },
  "cells": [
    {
      "cell_type": "markdown",
      "metadata": {
        "id": "view-in-github",
        "colab_type": "text"
      },
      "source": [
        "<a href=\"https://colab.research.google.com/github/jacr2006/android-tflitemodel-drowsiness-detection/blob/master/data_inference.ipynb\" target=\"_parent\"><img src=\"https://colab.research.google.com/assets/colab-badge.svg\" alt=\"Open In Colab\"/></a>"
      ]
    },
    {
      "cell_type": "code",
      "metadata": {
        "id": "xtukprCzmsrl",
        "colab_type": "code",
        "outputId": "09c607c4-dd23-498c-cfbb-558b2e757d0a",
        "colab": {
          "base_uri": "https://localhost:8080/",
          "height": 122
        }
      },
      "source": [
        "from google.colab import drive\n",
        "drive.mount('/content/drive')"
      ],
      "execution_count": 1,
      "outputs": [
        {
          "output_type": "stream",
          "text": [
            "Go to this URL in a browser: https://accounts.google.com/o/oauth2/auth?client_id=947318989803-6bn6qk8qdgf4n4g3pfee6491hc0brc4i.apps.googleusercontent.com&redirect_uri=urn%3aietf%3awg%3aoauth%3a2.0%3aoob&response_type=code&scope=email%20https%3a%2f%2fwww.googleapis.com%2fauth%2fdocs.test%20https%3a%2f%2fwww.googleapis.com%2fauth%2fdrive%20https%3a%2f%2fwww.googleapis.com%2fauth%2fdrive.photos.readonly%20https%3a%2f%2fwww.googleapis.com%2fauth%2fpeopleapi.readonly\n",
            "\n",
            "Enter your authorization code:\n",
            "··········\n",
            "Mounted at /content/drive\n"
          ],
          "name": "stdout"
        }
      ]
    },
    {
      "cell_type": "code",
      "metadata": {
        "id": "qj8a7Xr22bfD",
        "colab_type": "code",
        "colab": {
          "base_uri": "https://localhost:8080/",
          "height": 105
        },
        "outputId": "1e69a0aa-a023-49e9-8d30-c529b33c2f8b"
      },
      "source": [
        "pip install xmltodict"
      ],
      "execution_count": 2,
      "outputs": [
        {
          "output_type": "stream",
          "text": [
            "Collecting xmltodict\n",
            "  Downloading https://files.pythonhosted.org/packages/28/fd/30d5c1d3ac29ce229f6bdc40bbc20b28f716e8b363140c26eff19122d8a5/xmltodict-0.12.0-py2.py3-none-any.whl\n",
            "Installing collected packages: xmltodict\n",
            "Successfully installed xmltodict-0.12.0\n"
          ],
          "name": "stdout"
        }
      ]
    },
    {
      "cell_type": "code",
      "metadata": {
        "id": "-HWqvfzo2fmO",
        "colab_type": "code",
        "colab": {
          "base_uri": "https://localhost:8080/",
          "height": 80
        },
        "outputId": "66892e5e-083b-4c1e-ebcb-5fa97cd333e8"
      },
      "source": [
        "import xmltodict\n",
        "import matplotlib.pyplot as plt\n",
        "import matplotlib.image as mpimg\n",
        "from matplotlib.patches import Rectangle\n",
        "import cv2\n",
        "from google.colab.patches import cv2_imshow\n",
        "import numpy as np\n",
        "from keras.models import load_model"
      ],
      "execution_count": 9,
      "outputs": [
        {
          "output_type": "stream",
          "text": [
            "Using TensorFlow backend.\n"
          ],
          "name": "stderr"
        },
        {
          "output_type": "display_data",
          "data": {
            "text/html": [
              "<p style=\"color: red;\">\n",
              "The default version of TensorFlow in Colab will soon switch to TensorFlow 2.x.<br>\n",
              "We recommend you <a href=\"https://www.tensorflow.org/guide/migrate\" target=\"_blank\">upgrade</a> now \n",
              "or ensure your notebook will continue to use TensorFlow 1.x via the <code>%tensorflow_version 1.x</code> magic:\n",
              "<a href=\"https://colab.research.google.com/notebooks/tensorflow_version.ipynb\" target=\"_blank\">more info</a>.</p>\n"
            ],
            "text/plain": [
              "<IPython.core.display.HTML object>"
            ]
          },
          "metadata": {
            "tags": []
          }
        }
      ]
    },
    {
      "cell_type": "code",
      "metadata": {
        "id": "Mtpd5FoVoJNy",
        "colab_type": "code",
        "colab": {}
      },
      "source": [
        "PATH_DRIVE = '/content/drive/My Drive/Proyectos Nuevos/ML/multiclass_landmark_keras_cnn/'\n",
        "PATH_DATASET = 'ibug_300W_large_face_landmark_dataset/'\n",
        "MODEL_PATH = PATH_DRIVE+'models/model2.h5'\n",
        "\n",
        "pathXml = PATH_DRIVE + PATH_DATASET + 'labels_ibug_300W_test.xml'# archivo con los datos de prueba\n",
        "with open(pathXml, 'r') as file:\n",
        "  dict = xmltodict.parse(file.read())# lectura del archivo xml y conversion a diccionario"
      ],
      "execution_count": 0,
      "outputs": []
    },
    {
      "cell_type": "code",
      "metadata": {
        "id": "jBeCKT0y3fkt",
        "colab_type": "code",
        "colab": {
          "base_uri": "https://localhost:8080/",
          "height": 102
        },
        "outputId": "6a40ae44-9820-49cc-f724-dab899ef29a3"
      },
      "source": [
        "IMG_NUM=500\n",
        "pathImg = dict['dataset']['images']['image'][IMG_NUM]['@file']# ruta de la imagen\n",
        "\n",
        "x=[]\n",
        "y=[]\n",
        "for i in range(68):# marcas faciales de la imagen\n",
        "  x.append( int(dict['dataset']['images']['image'][IMG_NUM]['box']['part'][i]['@x']) )\n",
        "  y.append( int(dict['dataset']['images']['image'][IMG_NUM]['box']['part'][i]['@y']) )\n",
        "\n",
        "left = int( dict['dataset']['images']['image'][IMG_NUM]['box']['@left'] )# rectangulo sobre el rostro, asi que no es necesario usar ningun algoritmo de deteccion de rostros\n",
        "top = int( dict['dataset']['images']['image'][IMG_NUM]['box']['@top'] )\n",
        "width = int( dict['dataset']['images']['image'][IMG_NUM]['box']['@width'] )\n",
        "height = int( dict['dataset']['images']['image'][IMG_NUM]['box']['@height'] )\n",
        "\n",
        "print(pathImg)\n",
        "print(left)\n",
        "print(top)\n",
        "print(width)\n",
        "print(height)\n"
      ],
      "execution_count": 22,
      "outputs": [
        {
          "output_type": "stream",
          "text": [
            "lfpw/trainset/image_0579.png\n",
            "226\n",
            "122\n",
            "105\n",
            "105\n"
          ],
          "name": "stdout"
        }
      ]
    },
    {
      "cell_type": "code",
      "metadata": {
        "id": "6Tz2FRrx3sEQ",
        "colab_type": "code",
        "colab": {
          "base_uri": "https://localhost:8080/",
          "height": 113
        },
        "outputId": "ffb26e2b-561a-4cb6-aa79-6c9de5eeb7f5"
      },
      "source": [
        "IMG_WIDTH = 96# tamaño de a imagen de entrada de la CNN\n",
        "IMG_HEIGHT = 96\n",
        "IMG_CHANNEL = 1# imagen en escala de grises\n",
        "N_LANDMARK = 68# numero de marcas faciales\n",
        "\n",
        "MEAN = 48.55575925239583# valor medio de la normalizacion de las marcas faciales\n",
        "RANGE = 146.0#rango de la normalizacion de las marcas faciales\n",
        "\n",
        "img=cv2.imread( PATH_DRIVE + PATH_DATASET + pathImg )\n",
        "cropImg = img[top:top+height, left:left+width]# recorte de la imagen al tamaño de la region de interes (ROI)\n",
        "\n",
        "xcrop=[]\n",
        "ycrop=[]\n",
        "for i in range(68):# escalado de las marcas faciales a la ROI\n",
        "  xcrop.append( x[i]-left )\n",
        "  ycrop.append( y[i]-top )\n",
        "\n",
        "mcrop=list(zip(xcrop,ycrop))\n",
        "\n",
        "rezImg = cv2.resize( cropImg, ( IMG_WIDTH, IMG_HEIGHT ) )# escalado de la imagen usando opencv\n",
        "grayImg = cv2.cvtColor( rezImg, cv2.COLOR_BGR2GRAY )# conversion de RGB a escala de grises con opencv.\n",
        "rshImg = grayImg.reshape(1, IMG_HEIGHT, IMG_WIDTH, IMG_CHANNEL)#reordenamiento de la imagen de acuerdo a la entrada requerida por la CNN\n",
        "rshImg = rshImg/255.0#normalizacion de la imagen, entre (0,1). De acuerdo al entrenamiento\n",
        "\n",
        "_model = load_model(MODEL_PATH)\n",
        "res=_model.predict(rshImg)# inferencia del modelo\n",
        "\n",
        "res=res.reshape( 1, N_LANDMARK, 2 )#desnormalizacion de la inferencia\n",
        "marks = ( res * RANGE ) + MEAN\n",
        "\n",
        "for i in range(N_LANDMARK):\n",
        "  cv2.circle( grayImg, ( marks[0,i,0], marks[0,i,1] ), 1, (0, 0, 255), -1 )#dibuja la inferencia sobre la imagen\n",
        "\n",
        "xrez=[]\n",
        "yrez=[]\n",
        "for i in range( 68 ):# escalado de las marcas faciales en la misma proporcion de la imagen\n",
        "  xrez.append( int(xcrop[i]*IMG_WIDTH/cropImg.shape[0]) )\n",
        "  yrez.append( int(ycrop[i]*IMG_HEIGHT/cropImg.shape[1]) )\n",
        "\n",
        "marks=zip(xrez,yrez)\n",
        "\n",
        "#for (i, j) in marks:\n",
        "#  cv2.circle(grayImg, (i,j), 1, (255, 0, 0), -1)#dibuja las marcas faciales reales sobre la imagen\n",
        "\n",
        "cv2_imshow(grayImg)# despliegue de la imagen escalada y en escala de grises"
      ],
      "execution_count": 26,
      "outputs": [
        {
          "output_type": "display_data",
          "data": {
            "image/png": "[encoded data removed]",
            "text/plain": [
              "<PIL.Image.Image image mode=L size=96x96 at 0x7F8571EC0BA8>"
            ]
          },
          "metadata": {
            "tags": []
          }
        }
      ]
    }
  ]
}